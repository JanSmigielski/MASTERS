{
 "cells": [
  {
   "cell_type": "markdown",
   "metadata": {},
   "source": [
    "### MODELS - STEP BY STEP:\n",
    " 1. Load data - 15 Goyal-Welch predictors with 3 dependent variables : excess return, excess bond, HML\n",
    "\n",
    " 2. Prepare data for modelling : split predictors for simple model, create random fourier features (12 000) for complex models - remember that at first use data up to december of 2020\n",
    "\n",
    " 3. Start preparing models : window = 12, ridge_aplha = 1e3\n",
    "\n",
    " 4. Calculate performance metrics: sharpe ratio, appraisal ratio, alpha t-stat and skewness for : Actual return, Return for the simple strategy and Return for complex strategy\n",
    " 5. Create tables and plots showing similar results to those of AQR's article\n",
    "\n",
    " 6. Add my own idea: simple way - add data up to 2023, hard way - consider making 2 models simple and complex using also more complex algorithm (probably a neural network), middle way - look at different ridge regularization parameters and different numbers of RFF (more complex analysis of complexity of models) or check different timing strategies\n",
    "\n",
    "### Be careful of:\n",
    " - Data - I am 99% sure about the correctness of the predictors - all are available online and the author of the article said he's using them. Apart from HML we used data for dependent variables from different sources.\n",
    "\n",
    " - Models - Small changes in the process of model estimating change metrics by a noticeable amount\n",
    " \n",
    " - Performance Measures - Very important! I need to be sure of the correct calculation of SHARPE RATIO as it is the most important metric and whole analysis is based on it."
   ]
  },
  {
   "cell_type": "code",
   "execution_count": 1,
   "metadata": {},
   "outputs": [
    {
     "name": "stdout",
     "output_type": "stream",
     "text": [
      "/Users/smigielski/Desktop/Master_thesis\n"
     ]
    }
   ],
   "source": [
    "import os\n",
    "import pandas as pd\n",
    "import numpy as np\n",
    "from sklearn.model_selection import train_test_split\n",
    "from sklearn.linear_model import Ridge\n",
    "from sklearn.kernel_approximation import RBFSampler\n",
    "import statsmodels.api as sm\n",
    "from scipy.stats import skew\n",
    "from sklearn.linear_model import LinearRegression\n",
    "from tqdm import tqdm\n",
    "import statsmodels.api as sm\n",
    "from statsmodels.regression.rolling import RollingOLS\n",
    "\n",
    "print(os.getcwd())\n",
    "predictors = pd.read_excel(\"data_masters/predictors.xlsx\")\n",
    "dependent_vars = pd.read_excel(\"data_masters/dependent_vars.xlsx\")"
   ]
  },
  {
   "cell_type": "markdown",
   "metadata": {},
   "source": [
    "### **Methodology**"
   ]
  },
  {
   "cell_type": "code",
   "execution_count": 2,
   "metadata": {},
   "outputs": [],
   "source": [
    "window_size = 12\n",
    "alpha = 1e3\n",
    "gamma = 4"
   ]
  },
  {
   "cell_type": "markdown",
   "metadata": {},
   "source": [
    "**Because the values we got from our analysis are different from the ones from the article (especially for US Stock Excess Return) I am not sure about the correctness of this methodology. I based it on this text from the article:**"
   ]
  },
  {
   "attachments": {
    "image.png": {
     "image/png": "[encoded data removed]"
    }
   },
   "cell_type": "markdown",
   "metadata": {},
   "source": [
    "![image.png](attachment:image.png)"
   ]
  },
  {
   "cell_type": "markdown",
   "metadata": {},
   "source": [
    "**Models**"
   ]
  },
  {
   "cell_type": "markdown",
   "metadata": {},
   "source": [
    "- All models are made by using rolling regression\n",
    "- Linear model: linear regression on the original predictors.\n",
    "- Complex model: Ridge regression (alpha = 1e3) on the Random Fourier features.\n",
    "- Predict the next month's returns using data from the previous 12 months.\n",
    "- The dependent variables are not excess returns but the actual market returns (from various markets).\n",
    "- Step by step, do what the author intended."
   ]
  },
  {
   "cell_type": "markdown",
   "metadata": {},
   "source": [
    "**Let's try to use the rolling regression from the internet**\n",
    "- https://wire.insiderfinance.io/adaptive-time-series-forecasting-with-rolling-ridge-regression-a82f4a718471\n",
    "- https://www.statsmodels.org/dev/examples/notebooks/generated/rolling_ls.html"
   ]
  },
  {
   "cell_type": "markdown",
   "metadata": {},
   "source": [
    "Complex Model - this is the important stuff"
   ]
  },
  {
   "cell_type": "code",
   "execution_count": 19,
   "metadata": {},
   "outputs": [],
   "source": [
    "def complex_model(predictors, dependent_var):\n",
    "    # Transform features using random Fourier features\n",
    "    rbf_feature = RBFSampler(gamma=gamma, n_components=12000, random_state=42)\n",
    "    fourier_features = rbf_feature.fit_transform(predictors)\n",
    "\n",
    "    # Define Ridge Regression model\n",
    "    ridge_model = Ridge(alpha=alpha)\n",
    "    complex_predictions = []\n",
    "\n",
    "    # Rolling window Ridge Regression\n",
    "    for i in tqdm(range(window_size, len(predictors))):  # Include the last data point\n",
    "        X_window = fourier_features[i-window_size:i]\n",
    "        y_window = dependent_var[i-window_size:i]\n",
    "\n",
    "        ridge_model.fit(X_window, y_window)  # Train model on current window\n",
    "        X_next_scaled = fourier_features[i:i+1]  # Features for the next point\n",
    "        prediction = ridge_model.predict(X_next_scaled)  # Predict next point\n",
    "    \n",
    "        complex_predictions.append(prediction[0])\n",
    "\n",
    "    # Index predictions by corresponding dates (exclude initial window)\n",
    "    predicted_dates = dependent_var.index[window_size:]\n",
    "    complex_predictions = pd.Series(complex_predictions, index=predicted_dates)\n",
    "\n",
    "    return complex_predictions"
   ]
  },
  {
   "cell_type": "markdown",
   "metadata": {},
   "source": [
    "Simple Model"
   ]
  },
  {
   "cell_type": "code",
   "execution_count": 16,
   "metadata": {},
   "outputs": [],
   "source": [
    "def linear_model(predictors, dependent_var):\n",
    "    # Define Linear Regression model\n",
    "    linear_model = LinearRegression()\n",
    "    linear_predictions = []\n",
    "    \n",
    "    # Rolling window Linear Regression\n",
    "    for i in tqdm(range(window_size, len(predictors))):  # Include the last data point\n",
    "        X_window = predictors.iloc[i-window_size:i]\n",
    "        y_window = dependent_var.iloc[i-window_size:i]\n",
    "        \n",
    "        linear_model.fit(X_window, y_window)  # Train model on current window\n",
    "        X_next_scaled = predictors.iloc[i:i+1]  # Features for the next point\n",
    "        prediction = linear_model.predict(X_next_scaled)  # Predict next point\n",
    "    \n",
    "        linear_predictions.append(prediction[0])\n",
    "    \n",
    "    # Index predictions by corresponding dates (exclude initial window)\n",
    "    predicted_dates = dependent_var.index[window_size:]\n",
    "    linear_predictions = pd.Series(linear_predictions, index=predicted_dates)\n",
    "\n",
    "    return linear_predictions"
   ]
  },
  {
   "cell_type": "markdown",
   "metadata": {},
   "source": [
    "**Market Timing Strategy**"
   ]
  },
  {
   "cell_type": "markdown",
   "metadata": {},
   "source": [
    "- For each month, use the predicted return as the weight for the actual market return.\n",
    "- Calculate portfolio returns as: predicted return × actual return.\n",
    "- Create a series of portfolio returns over time.\n",
    "- Ensure the author is calculating the returns correctly."
   ]
  },
  {
   "cell_type": "code",
   "execution_count": 20,
   "metadata": {},
   "outputs": [],
   "source": [
    "def timing_strategy(predictions,dependent_var):\n",
    "    predicted_dates = dependent_var.index[window_size:]\n",
    "    portfolio_returns = []\n",
    "    for date in predicted_dates:\n",
    "        \n",
    "        actual_market_return = dependent_var.loc[date]\n",
    "        predicted_market_return = predictions.loc[date]\n",
    "    \n",
    "        portfolio_return = predicted_market_return * actual_market_return\n",
    "        portfolio_returns.append(portfolio_return)\n",
    "    \n",
    "    portfolio_returns = pd.Series(portfolio_returns, index=predicted_dates)\n",
    "\n",
    "    return portfolio_returns"
   ]
  },
  {
   "cell_type": "markdown",
   "metadata": {},
   "source": [
    "**Performance Measures**"
   ]
  },
  {
   "cell_type": "markdown",
   "metadata": {},
   "source": [
    "- Sharpe Ratio: average excess return / standard deviation of portfolio returns.\n",
    "- Appraisal Ratio: alpha / standard deviation of residuals (tracking error).\n",
    "- Alpha t-stat: statistical significance of alpha.\n",
    "- Skewness: skewness of the portfolio returns distribution.\n",
    "- So, when calculating these metrics, you will need to compute excess returns."
   ]
  },
  {
   "cell_type": "code",
   "execution_count": 6,
   "metadata": {},
   "outputs": [],
   "source": [
    "def performance_measures(portfolio_returns, dependent_var, risk_free_rate):\n",
    "    window = 12\n",
    "    predicted_dates = dependent_var.index[window:]\n",
    "    \n",
    "    #Sharpe Ratio\n",
    "    excess_returns = portfolio_returns  - risk_free_rate\n",
    "    sharpe_ratio = np.mean(excess_returns) / np.std(portfolio_returns)\n",
    "\n",
    "    #Appraisal Ratio (alpha Sharpe Ratio)\n",
    "    X = sm.add_constant(dependent_var.loc[predicted_dates])\n",
    "    y = portfolio_returns\n",
    "    model = sm.OLS(y, X).fit()\n",
    "    alpha = model.params[0] \n",
    "    residuals = model.resid \n",
    "    tracking_error = residuals.std()\n",
    "    appraisal_ratio = alpha / tracking_error\n",
    "\n",
    "    #Alpha t-stat\n",
    "    alpha_t_stat = model.tvalues[0]\n",
    "    \n",
    "    #Skew\n",
    "    skewness = skew(portfolio_returns)\n",
    "\n",
    "    return sharpe_ratio, appraisal_ratio, alpha_t_stat, skewness"
   ]
  },
  {
   "cell_type": "code",
   "execution_count": 7,
   "metadata": {},
   "outputs": [
    {
     "data": {
      "text/html": [
       "<div>\n",
       "<style scoped>\n",
       "    .dataframe tbody tr th:only-of-type {\n",
       "        vertical-align: middle;\n",
       "    }\n",
       "\n",
       "    .dataframe tbody tr th {\n",
       "        vertical-align: top;\n",
       "    }\n",
       "\n",
       "    .dataframe thead th {\n",
       "        text-align: right;\n",
       "    }\n",
       "</style>\n",
       "<table border=\"1\" class=\"dataframe\">\n",
       "  <thead>\n",
       "    <tr style=\"text-align: right;\">\n",
       "      <th></th>\n",
       "      <th>yyyymm</th>\n",
       "      <th>dfy</th>\n",
       "      <th>infl</th>\n",
       "      <th>svar</th>\n",
       "      <th>d/e</th>\n",
       "      <th>lty</th>\n",
       "      <th>tms</th>\n",
       "      <th>tbl</th>\n",
       "      <th>corpr</th>\n",
       "      <th>d/p</th>\n",
       "      <th>d/y</th>\n",
       "      <th>ltr</th>\n",
       "      <th>e/p</th>\n",
       "      <th>ntis</th>\n",
       "      <th>lag_ret</th>\n",
       "      <th>b/p</th>\n",
       "    </tr>\n",
       "  </thead>\n",
       "  <tbody>\n",
       "    <tr>\n",
       "      <th>0</th>\n",
       "      <td>192701</td>\n",
       "      <td>0.0095</td>\n",
       "      <td>-0.011299</td>\n",
       "      <td>0.000470</td>\n",
       "      <td>0.566884</td>\n",
       "      <td>0.0351</td>\n",
       "      <td>0.0028</td>\n",
       "      <td>0.0323</td>\n",
       "      <td>0.005600</td>\n",
       "      <td>0.052740</td>\n",
       "      <td>0.051646</td>\n",
       "      <td>0.007500</td>\n",
       "      <td>0.093036</td>\n",
       "      <td>0.050824</td>\n",
       "      <td>0.026047</td>\n",
       "      <td>2.253746</td>\n",
       "    </tr>\n",
       "    <tr>\n",
       "      <th>1</th>\n",
       "      <td>192702</td>\n",
       "      <td>0.0092</td>\n",
       "      <td>-0.005714</td>\n",
       "      <td>0.000287</td>\n",
       "      <td>0.577422</td>\n",
       "      <td>0.0347</td>\n",
       "      <td>0.0018</td>\n",
       "      <td>0.0329</td>\n",
       "      <td>0.006900</td>\n",
       "      <td>0.050816</td>\n",
       "      <td>0.053240</td>\n",
       "      <td>0.008800</td>\n",
       "      <td>0.088006</td>\n",
       "      <td>0.051668</td>\n",
       "      <td>-0.002910</td>\n",
       "      <td>2.333718</td>\n",
       "    </tr>\n",
       "    <tr>\n",
       "      <th>2</th>\n",
       "      <td>192703</td>\n",
       "      <td>0.0092</td>\n",
       "      <td>-0.005747</td>\n",
       "      <td>0.000924</td>\n",
       "      <td>0.587748</td>\n",
       "      <td>0.0331</td>\n",
       "      <td>0.0011</td>\n",
       "      <td>0.0320</td>\n",
       "      <td>0.008300</td>\n",
       "      <td>0.050969</td>\n",
       "      <td>0.051301</td>\n",
       "      <td>0.025300</td>\n",
       "      <td>0.086719</td>\n",
       "      <td>0.046357</td>\n",
       "      <td>0.045522</td>\n",
       "      <td>2.128723</td>\n",
       "    </tr>\n",
       "    <tr>\n",
       "      <th>3</th>\n",
       "      <td>192704</td>\n",
       "      <td>0.0090</td>\n",
       "      <td>0.000000</td>\n",
       "      <td>0.000603</td>\n",
       "      <td>0.598747</td>\n",
       "      <td>0.0333</td>\n",
       "      <td>-0.0006</td>\n",
       "      <td>0.0339</td>\n",
       "      <td>0.005500</td>\n",
       "      <td>0.050579</td>\n",
       "      <td>0.051450</td>\n",
       "      <td>-0.000500</td>\n",
       "      <td>0.084474</td>\n",
       "      <td>0.050514</td>\n",
       "      <td>0.007324</td>\n",
       "      <td>2.189362</td>\n",
       "    </tr>\n",
       "    <tr>\n",
       "      <th>4</th>\n",
       "      <td>192705</td>\n",
       "      <td>0.0093</td>\n",
       "      <td>0.005780</td>\n",
       "      <td>0.000392</td>\n",
       "      <td>0.609865</td>\n",
       "      <td>0.0327</td>\n",
       "      <td>-0.0006</td>\n",
       "      <td>0.0333</td>\n",
       "      <td>-0.001100</td>\n",
       "      <td>0.048511</td>\n",
       "      <td>0.051044</td>\n",
       "      <td>0.010900</td>\n",
       "      <td>0.079544</td>\n",
       "      <td>0.055275</td>\n",
       "      <td>0.013021</td>\n",
       "      <td>2.300000</td>\n",
       "    </tr>\n",
       "    <tr>\n",
       "      <th>...</th>\n",
       "      <td>...</td>\n",
       "      <td>...</td>\n",
       "      <td>...</td>\n",
       "      <td>...</td>\n",
       "      <td>...</td>\n",
       "      <td>...</td>\n",
       "      <td>...</td>\n",
       "      <td>...</td>\n",
       "      <td>...</td>\n",
       "      <td>...</td>\n",
       "      <td>...</td>\n",
       "      <td>...</td>\n",
       "      <td>...</td>\n",
       "      <td>...</td>\n",
       "      <td>...</td>\n",
       "      <td>...</td>\n",
       "    </tr>\n",
       "    <tr>\n",
       "      <th>1159</th>\n",
       "      <td>202308</td>\n",
       "      <td>0.0107</td>\n",
       "      <td>0.004367</td>\n",
       "      <td>0.001337</td>\n",
       "      <td>0.377320</td>\n",
       "      <td>0.0417</td>\n",
       "      <td>-0.0113</td>\n",
       "      <td>0.0530</td>\n",
       "      <td>-0.007769</td>\n",
       "      <td>0.015333</td>\n",
       "      <td>0.015061</td>\n",
       "      <td>-0.005182</td>\n",
       "      <td>0.040635</td>\n",
       "      <td>-0.016514</td>\n",
       "      <td>0.031700</td>\n",
       "      <td>4.741925</td>\n",
       "    </tr>\n",
       "    <tr>\n",
       "      <th>1160</th>\n",
       "      <td>202309</td>\n",
       "      <td>0.0103</td>\n",
       "      <td>0.002485</td>\n",
       "      <td>0.001023</td>\n",
       "      <td>0.376191</td>\n",
       "      <td>0.0438</td>\n",
       "      <td>-0.0094</td>\n",
       "      <td>0.0532</td>\n",
       "      <td>-0.026694</td>\n",
       "      <td>0.016164</td>\n",
       "      <td>0.015377</td>\n",
       "      <td>-0.022094</td>\n",
       "      <td>0.042968</td>\n",
       "      <td>-0.017989</td>\n",
       "      <td>-0.015424</td>\n",
       "      <td>4.576075</td>\n",
       "    </tr>\n",
       "    <tr>\n",
       "      <th>1161</th>\n",
       "      <td>202310</td>\n",
       "      <td>0.0102</td>\n",
       "      <td>-0.000383</td>\n",
       "      <td>0.001678</td>\n",
       "      <td>0.372471</td>\n",
       "      <td>0.0480</td>\n",
       "      <td>-0.0054</td>\n",
       "      <td>0.0534</td>\n",
       "      <td>-0.018726</td>\n",
       "      <td>0.016606</td>\n",
       "      <td>0.016241</td>\n",
       "      <td>-0.012083</td>\n",
       "      <td>0.044584</td>\n",
       "      <td>-0.014711</td>\n",
       "      <td>-0.047566</td>\n",
       "      <td>4.513986</td>\n",
       "    </tr>\n",
       "    <tr>\n",
       "      <th>1162</th>\n",
       "      <td>202311</td>\n",
       "      <td>0.0101</td>\n",
       "      <td>-0.002015</td>\n",
       "      <td>0.001341</td>\n",
       "      <td>0.368858</td>\n",
       "      <td>0.0450</td>\n",
       "      <td>-0.0077</td>\n",
       "      <td>0.0527</td>\n",
       "      <td>0.059782</td>\n",
       "      <td>0.015319</td>\n",
       "      <td>0.016685</td>\n",
       "      <td>0.034730</td>\n",
       "      <td>0.041531</td>\n",
       "      <td>-0.020618</td>\n",
       "      <td>-0.021040</td>\n",
       "      <td>4.909765</td>\n",
       "    </tr>\n",
       "    <tr>\n",
       "      <th>1163</th>\n",
       "      <td>202312</td>\n",
       "      <td>0.0090</td>\n",
       "      <td>-0.000993</td>\n",
       "      <td>0.000797</td>\n",
       "      <td>0.365347</td>\n",
       "      <td>0.0402</td>\n",
       "      <td>-0.0122</td>\n",
       "      <td>0.0524</td>\n",
       "      <td>0.043353</td>\n",
       "      <td>0.014739</td>\n",
       "      <td>0.015391</td>\n",
       "      <td>0.033650</td>\n",
       "      <td>0.040343</td>\n",
       "      <td>-0.017441</td>\n",
       "      <td>0.090804</td>\n",
       "      <td>5.147210</td>\n",
       "    </tr>\n",
       "  </tbody>\n",
       "</table>\n",
       "<p>1164 rows × 16 columns</p>\n",
       "</div>"
      ],
      "text/plain": [
       "      yyyymm     dfy      infl      svar       d/e     lty     tms     tbl  \\\n",
       "0     192701  0.0095 -0.011299  0.000470  0.566884  0.0351  0.0028  0.0323   \n",
       "1     192702  0.0092 -0.005714  0.000287  0.577422  0.0347  0.0018  0.0329   \n",
       "2     192703  0.0092 -0.005747  0.000924  0.587748  0.0331  0.0011  0.0320   \n",
       "3     192704  0.0090  0.000000  0.000603  0.598747  0.0333 -0.0006  0.0339   \n",
       "4     192705  0.0093  0.005780  0.000392  0.609865  0.0327 -0.0006  0.0333   \n",
       "...      ...     ...       ...       ...       ...     ...     ...     ...   \n",
       "1159  202308  0.0107  0.004367  0.001337  0.377320  0.0417 -0.0113  0.0530   \n",
       "1160  202309  0.0103  0.002485  0.001023  0.376191  0.0438 -0.0094  0.0532   \n",
       "1161  202310  0.0102 -0.000383  0.001678  0.372471  0.0480 -0.0054  0.0534   \n",
       "1162  202311  0.0101 -0.002015  0.001341  0.368858  0.0450 -0.0077  0.0527   \n",
       "1163  202312  0.0090 -0.000993  0.000797  0.365347  0.0402 -0.0122  0.0524   \n",
       "\n",
       "         corpr       d/p       d/y       ltr       e/p      ntis   lag_ret  \\\n",
       "0     0.005600  0.052740  0.051646  0.007500  0.093036  0.050824  0.026047   \n",
       "1     0.006900  0.050816  0.053240  0.008800  0.088006  0.051668 -0.002910   \n",
       "2     0.008300  0.050969  0.051301  0.025300  0.086719  0.046357  0.045522   \n",
       "3     0.005500  0.050579  0.051450 -0.000500  0.084474  0.050514  0.007324   \n",
       "4    -0.001100  0.048511  0.051044  0.010900  0.079544  0.055275  0.013021   \n",
       "...        ...       ...       ...       ...       ...       ...       ...   \n",
       "1159 -0.007769  0.015333  0.015061 -0.005182  0.040635 -0.016514  0.031700   \n",
       "1160 -0.026694  0.016164  0.015377 -0.022094  0.042968 -0.017989 -0.015424   \n",
       "1161 -0.018726  0.016606  0.016241 -0.012083  0.044584 -0.014711 -0.047566   \n",
       "1162  0.059782  0.015319  0.016685  0.034730  0.041531 -0.020618 -0.021040   \n",
       "1163  0.043353  0.014739  0.015391  0.033650  0.040343 -0.017441  0.090804   \n",
       "\n",
       "           b/p  \n",
       "0     2.253746  \n",
       "1     2.333718  \n",
       "2     2.128723  \n",
       "3     2.189362  \n",
       "4     2.300000  \n",
       "...        ...  \n",
       "1159  4.741925  \n",
       "1160  4.576075  \n",
       "1161  4.513986  \n",
       "1162  4.909765  \n",
       "1163  5.147210  \n",
       "\n",
       "[1164 rows x 16 columns]"
      ]
     },
     "execution_count": 7,
     "metadata": {},
     "output_type": "execute_result"
    }
   ],
   "source": [
    "predictors"
   ]
  },
  {
   "cell_type": "code",
   "execution_count": 8,
   "metadata": {},
   "outputs": [
    {
     "data": {
      "text/html": [
       "<div>\n",
       "<style scoped>\n",
       "    .dataframe tbody tr th:only-of-type {\n",
       "        vertical-align: middle;\n",
       "    }\n",
       "\n",
       "    .dataframe tbody tr th {\n",
       "        vertical-align: top;\n",
       "    }\n",
       "\n",
       "    .dataframe thead th {\n",
       "        text-align: right;\n",
       "    }\n",
       "</style>\n",
       "<table border=\"1\" class=\"dataframe\">\n",
       "  <thead>\n",
       "    <tr style=\"text-align: right;\">\n",
       "      <th></th>\n",
       "      <th>DATE</th>\n",
       "      <th>Mkt-RF</th>\n",
       "      <th>HML</th>\n",
       "      <th>GS10 (Bond)</th>\n",
       "    </tr>\n",
       "  </thead>\n",
       "  <tbody>\n",
       "    <tr>\n",
       "      <th>0</th>\n",
       "      <td>192607</td>\n",
       "      <td>2.96</td>\n",
       "      <td>-2.43</td>\n",
       "      <td>NaN</td>\n",
       "    </tr>\n",
       "    <tr>\n",
       "      <th>1</th>\n",
       "      <td>192608</td>\n",
       "      <td>2.64</td>\n",
       "      <td>3.82</td>\n",
       "      <td>NaN</td>\n",
       "    </tr>\n",
       "    <tr>\n",
       "      <th>2</th>\n",
       "      <td>192609</td>\n",
       "      <td>0.36</td>\n",
       "      <td>0.13</td>\n",
       "      <td>NaN</td>\n",
       "    </tr>\n",
       "    <tr>\n",
       "      <th>3</th>\n",
       "      <td>192610</td>\n",
       "      <td>-3.24</td>\n",
       "      <td>0.70</td>\n",
       "      <td>NaN</td>\n",
       "    </tr>\n",
       "    <tr>\n",
       "      <th>4</th>\n",
       "      <td>192611</td>\n",
       "      <td>2.53</td>\n",
       "      <td>-0.51</td>\n",
       "      <td>NaN</td>\n",
       "    </tr>\n",
       "    <tr>\n",
       "      <th>...</th>\n",
       "      <td>...</td>\n",
       "      <td>...</td>\n",
       "      <td>...</td>\n",
       "      <td>...</td>\n",
       "    </tr>\n",
       "    <tr>\n",
       "      <th>1177</th>\n",
       "      <td>202408</td>\n",
       "      <td>1.61</td>\n",
       "      <td>-1.13</td>\n",
       "      <td>3.87</td>\n",
       "    </tr>\n",
       "    <tr>\n",
       "      <th>1178</th>\n",
       "      <td>202409</td>\n",
       "      <td>1.74</td>\n",
       "      <td>-2.59</td>\n",
       "      <td>3.72</td>\n",
       "    </tr>\n",
       "    <tr>\n",
       "      <th>1179</th>\n",
       "      <td>202410</td>\n",
       "      <td>-0.97</td>\n",
       "      <td>0.89</td>\n",
       "      <td>4.10</td>\n",
       "    </tr>\n",
       "    <tr>\n",
       "      <th>1180</th>\n",
       "      <td>202411</td>\n",
       "      <td>6.51</td>\n",
       "      <td>-0.05</td>\n",
       "      <td>4.36</td>\n",
       "    </tr>\n",
       "    <tr>\n",
       "      <th>1181</th>\n",
       "      <td>202412</td>\n",
       "      <td>-3.17</td>\n",
       "      <td>-2.95</td>\n",
       "      <td>4.39</td>\n",
       "    </tr>\n",
       "  </tbody>\n",
       "</table>\n",
       "<p>1182 rows × 4 columns</p>\n",
       "</div>"
      ],
      "text/plain": [
       "        DATE  Mkt-RF   HML  GS10 (Bond)\n",
       "0     192607    2.96 -2.43          NaN\n",
       "1     192608    2.64  3.82          NaN\n",
       "2     192609    0.36  0.13          NaN\n",
       "3     192610   -3.24  0.70          NaN\n",
       "4     192611    2.53 -0.51          NaN\n",
       "...      ...     ...   ...          ...\n",
       "1177  202408    1.61 -1.13         3.87\n",
       "1178  202409    1.74 -2.59         3.72\n",
       "1179  202410   -0.97  0.89         4.10\n",
       "1180  202411    6.51 -0.05         4.36\n",
       "1181  202412   -3.17 -2.95         4.39\n",
       "\n",
       "[1182 rows x 4 columns]"
      ]
     },
     "execution_count": 8,
     "metadata": {},
     "output_type": "execute_result"
    }
   ],
   "source": [
    "dependent_vars"
   ]
  },
  {
   "cell_type": "code",
   "execution_count": 9,
   "metadata": {},
   "outputs": [
    {
     "data": {
      "text/html": [
       "<div>\n",
       "<style scoped>\n",
       "    .dataframe tbody tr th:only-of-type {\n",
       "        vertical-align: middle;\n",
       "    }\n",
       "\n",
       "    .dataframe tbody tr th {\n",
       "        vertical-align: top;\n",
       "    }\n",
       "\n",
       "    .dataframe thead th {\n",
       "        text-align: right;\n",
       "    }\n",
       "</style>\n",
       "<table border=\"1\" class=\"dataframe\">\n",
       "  <thead>\n",
       "    <tr style=\"text-align: right;\">\n",
       "      <th></th>\n",
       "      <th>dfy</th>\n",
       "      <th>infl</th>\n",
       "      <th>svar</th>\n",
       "      <th>d/e</th>\n",
       "      <th>lty</th>\n",
       "      <th>tms</th>\n",
       "      <th>tbl</th>\n",
       "      <th>corpr</th>\n",
       "      <th>d/p</th>\n",
       "      <th>d/y</th>\n",
       "      <th>ltr</th>\n",
       "      <th>e/p</th>\n",
       "      <th>ntis</th>\n",
       "      <th>lag_ret</th>\n",
       "      <th>b/p</th>\n",
       "    </tr>\n",
       "    <tr>\n",
       "      <th>date</th>\n",
       "      <th></th>\n",
       "      <th></th>\n",
       "      <th></th>\n",
       "      <th></th>\n",
       "      <th></th>\n",
       "      <th></th>\n",
       "      <th></th>\n",
       "      <th></th>\n",
       "      <th></th>\n",
       "      <th></th>\n",
       "      <th></th>\n",
       "      <th></th>\n",
       "      <th></th>\n",
       "      <th></th>\n",
       "      <th></th>\n",
       "    </tr>\n",
       "  </thead>\n",
       "  <tbody>\n",
       "    <tr>\n",
       "      <th>1927-01-01</th>\n",
       "      <td>0.0095</td>\n",
       "      <td>-0.011299</td>\n",
       "      <td>0.000470</td>\n",
       "      <td>0.566884</td>\n",
       "      <td>0.0351</td>\n",
       "      <td>0.0028</td>\n",
       "      <td>0.0323</td>\n",
       "      <td>0.005600</td>\n",
       "      <td>0.052740</td>\n",
       "      <td>0.051646</td>\n",
       "      <td>0.007500</td>\n",
       "      <td>0.093036</td>\n",
       "      <td>0.050824</td>\n",
       "      <td>0.026047</td>\n",
       "      <td>2.253746</td>\n",
       "    </tr>\n",
       "    <tr>\n",
       "      <th>1927-02-01</th>\n",
       "      <td>0.0092</td>\n",
       "      <td>-0.005714</td>\n",
       "      <td>0.000287</td>\n",
       "      <td>0.577422</td>\n",
       "      <td>0.0347</td>\n",
       "      <td>0.0018</td>\n",
       "      <td>0.0329</td>\n",
       "      <td>0.006900</td>\n",
       "      <td>0.050816</td>\n",
       "      <td>0.053240</td>\n",
       "      <td>0.008800</td>\n",
       "      <td>0.088006</td>\n",
       "      <td>0.051668</td>\n",
       "      <td>-0.002910</td>\n",
       "      <td>2.333718</td>\n",
       "    </tr>\n",
       "    <tr>\n",
       "      <th>1927-03-01</th>\n",
       "      <td>0.0092</td>\n",
       "      <td>-0.005747</td>\n",
       "      <td>0.000924</td>\n",
       "      <td>0.587748</td>\n",
       "      <td>0.0331</td>\n",
       "      <td>0.0011</td>\n",
       "      <td>0.0320</td>\n",
       "      <td>0.008300</td>\n",
       "      <td>0.050969</td>\n",
       "      <td>0.051301</td>\n",
       "      <td>0.025300</td>\n",
       "      <td>0.086719</td>\n",
       "      <td>0.046357</td>\n",
       "      <td>0.045522</td>\n",
       "      <td>2.128723</td>\n",
       "    </tr>\n",
       "    <tr>\n",
       "      <th>1927-04-01</th>\n",
       "      <td>0.0090</td>\n",
       "      <td>0.000000</td>\n",
       "      <td>0.000603</td>\n",
       "      <td>0.598747</td>\n",
       "      <td>0.0333</td>\n",
       "      <td>-0.0006</td>\n",
       "      <td>0.0339</td>\n",
       "      <td>0.005500</td>\n",
       "      <td>0.050579</td>\n",
       "      <td>0.051450</td>\n",
       "      <td>-0.000500</td>\n",
       "      <td>0.084474</td>\n",
       "      <td>0.050514</td>\n",
       "      <td>0.007324</td>\n",
       "      <td>2.189362</td>\n",
       "    </tr>\n",
       "    <tr>\n",
       "      <th>1927-05-01</th>\n",
       "      <td>0.0093</td>\n",
       "      <td>0.005780</td>\n",
       "      <td>0.000392</td>\n",
       "      <td>0.609865</td>\n",
       "      <td>0.0327</td>\n",
       "      <td>-0.0006</td>\n",
       "      <td>0.0333</td>\n",
       "      <td>-0.001100</td>\n",
       "      <td>0.048511</td>\n",
       "      <td>0.051044</td>\n",
       "      <td>0.010900</td>\n",
       "      <td>0.079544</td>\n",
       "      <td>0.055275</td>\n",
       "      <td>0.013021</td>\n",
       "      <td>2.300000</td>\n",
       "    </tr>\n",
       "    <tr>\n",
       "      <th>...</th>\n",
       "      <td>...</td>\n",
       "      <td>...</td>\n",
       "      <td>...</td>\n",
       "      <td>...</td>\n",
       "      <td>...</td>\n",
       "      <td>...</td>\n",
       "      <td>...</td>\n",
       "      <td>...</td>\n",
       "      <td>...</td>\n",
       "      <td>...</td>\n",
       "      <td>...</td>\n",
       "      <td>...</td>\n",
       "      <td>...</td>\n",
       "      <td>...</td>\n",
       "      <td>...</td>\n",
       "    </tr>\n",
       "    <tr>\n",
       "      <th>2023-08-01</th>\n",
       "      <td>0.0107</td>\n",
       "      <td>0.004367</td>\n",
       "      <td>0.001337</td>\n",
       "      <td>0.377320</td>\n",
       "      <td>0.0417</td>\n",
       "      <td>-0.0113</td>\n",
       "      <td>0.0530</td>\n",
       "      <td>-0.007769</td>\n",
       "      <td>0.015333</td>\n",
       "      <td>0.015061</td>\n",
       "      <td>-0.005182</td>\n",
       "      <td>0.040635</td>\n",
       "      <td>-0.016514</td>\n",
       "      <td>0.031700</td>\n",
       "      <td>4.741925</td>\n",
       "    </tr>\n",
       "    <tr>\n",
       "      <th>2023-09-01</th>\n",
       "      <td>0.0103</td>\n",
       "      <td>0.002485</td>\n",
       "      <td>0.001023</td>\n",
       "      <td>0.376191</td>\n",
       "      <td>0.0438</td>\n",
       "      <td>-0.0094</td>\n",
       "      <td>0.0532</td>\n",
       "      <td>-0.026694</td>\n",
       "      <td>0.016164</td>\n",
       "      <td>0.015377</td>\n",
       "      <td>-0.022094</td>\n",
       "      <td>0.042968</td>\n",
       "      <td>-0.017989</td>\n",
       "      <td>-0.015424</td>\n",
       "      <td>4.576075</td>\n",
       "    </tr>\n",
       "    <tr>\n",
       "      <th>2023-10-01</th>\n",
       "      <td>0.0102</td>\n",
       "      <td>-0.000383</td>\n",
       "      <td>0.001678</td>\n",
       "      <td>0.372471</td>\n",
       "      <td>0.0480</td>\n",
       "      <td>-0.0054</td>\n",
       "      <td>0.0534</td>\n",
       "      <td>-0.018726</td>\n",
       "      <td>0.016606</td>\n",
       "      <td>0.016241</td>\n",
       "      <td>-0.012083</td>\n",
       "      <td>0.044584</td>\n",
       "      <td>-0.014711</td>\n",
       "      <td>-0.047566</td>\n",
       "      <td>4.513986</td>\n",
       "    </tr>\n",
       "    <tr>\n",
       "      <th>2023-11-01</th>\n",
       "      <td>0.0101</td>\n",
       "      <td>-0.002015</td>\n",
       "      <td>0.001341</td>\n",
       "      <td>0.368858</td>\n",
       "      <td>0.0450</td>\n",
       "      <td>-0.0077</td>\n",
       "      <td>0.0527</td>\n",
       "      <td>0.059782</td>\n",
       "      <td>0.015319</td>\n",
       "      <td>0.016685</td>\n",
       "      <td>0.034730</td>\n",
       "      <td>0.041531</td>\n",
       "      <td>-0.020618</td>\n",
       "      <td>-0.021040</td>\n",
       "      <td>4.909765</td>\n",
       "    </tr>\n",
       "    <tr>\n",
       "      <th>2023-12-01</th>\n",
       "      <td>0.0090</td>\n",
       "      <td>-0.000993</td>\n",
       "      <td>0.000797</td>\n",
       "      <td>0.365347</td>\n",
       "      <td>0.0402</td>\n",
       "      <td>-0.0122</td>\n",
       "      <td>0.0524</td>\n",
       "      <td>0.043353</td>\n",
       "      <td>0.014739</td>\n",
       "      <td>0.015391</td>\n",
       "      <td>0.033650</td>\n",
       "      <td>0.040343</td>\n",
       "      <td>-0.017441</td>\n",
       "      <td>0.090804</td>\n",
       "      <td>5.147210</td>\n",
       "    </tr>\n",
       "  </tbody>\n",
       "</table>\n",
       "<p>1164 rows × 15 columns</p>\n",
       "</div>"
      ],
      "text/plain": [
       "               dfy      infl      svar       d/e     lty     tms     tbl  \\\n",
       "date                                                                       \n",
       "1927-01-01  0.0095 -0.011299  0.000470  0.566884  0.0351  0.0028  0.0323   \n",
       "1927-02-01  0.0092 -0.005714  0.000287  0.577422  0.0347  0.0018  0.0329   \n",
       "1927-03-01  0.0092 -0.005747  0.000924  0.587748  0.0331  0.0011  0.0320   \n",
       "1927-04-01  0.0090  0.000000  0.000603  0.598747  0.0333 -0.0006  0.0339   \n",
       "1927-05-01  0.0093  0.005780  0.000392  0.609865  0.0327 -0.0006  0.0333   \n",
       "...            ...       ...       ...       ...     ...     ...     ...   \n",
       "2023-08-01  0.0107  0.004367  0.001337  0.377320  0.0417 -0.0113  0.0530   \n",
       "2023-09-01  0.0103  0.002485  0.001023  0.376191  0.0438 -0.0094  0.0532   \n",
       "2023-10-01  0.0102 -0.000383  0.001678  0.372471  0.0480 -0.0054  0.0534   \n",
       "2023-11-01  0.0101 -0.002015  0.001341  0.368858  0.0450 -0.0077  0.0527   \n",
       "2023-12-01  0.0090 -0.000993  0.000797  0.365347  0.0402 -0.0122  0.0524   \n",
       "\n",
       "               corpr       d/p       d/y       ltr       e/p      ntis  \\\n",
       "date                                                                     \n",
       "1927-01-01  0.005600  0.052740  0.051646  0.007500  0.093036  0.050824   \n",
       "1927-02-01  0.006900  0.050816  0.053240  0.008800  0.088006  0.051668   \n",
       "1927-03-01  0.008300  0.050969  0.051301  0.025300  0.086719  0.046357   \n",
       "1927-04-01  0.005500  0.050579  0.051450 -0.000500  0.084474  0.050514   \n",
       "1927-05-01 -0.001100  0.048511  0.051044  0.010900  0.079544  0.055275   \n",
       "...              ...       ...       ...       ...       ...       ...   \n",
       "2023-08-01 -0.007769  0.015333  0.015061 -0.005182  0.040635 -0.016514   \n",
       "2023-09-01 -0.026694  0.016164  0.015377 -0.022094  0.042968 -0.017989   \n",
       "2023-10-01 -0.018726  0.016606  0.016241 -0.012083  0.044584 -0.014711   \n",
       "2023-11-01  0.059782  0.015319  0.016685  0.034730  0.041531 -0.020618   \n",
       "2023-12-01  0.043353  0.014739  0.015391  0.033650  0.040343 -0.017441   \n",
       "\n",
       "             lag_ret       b/p  \n",
       "date                            \n",
       "1927-01-01  0.026047  2.253746  \n",
       "1927-02-01 -0.002910  2.333718  \n",
       "1927-03-01  0.045522  2.128723  \n",
       "1927-04-01  0.007324  2.189362  \n",
       "1927-05-01  0.013021  2.300000  \n",
       "...              ...       ...  \n",
       "2023-08-01  0.031700  4.741925  \n",
       "2023-09-01 -0.015424  4.576075  \n",
       "2023-10-01 -0.047566  4.513986  \n",
       "2023-11-01 -0.021040  4.909765  \n",
       "2023-12-01  0.090804  5.147210  \n",
       "\n",
       "[1164 rows x 15 columns]"
      ]
     },
     "execution_count": 9,
     "metadata": {},
     "output_type": "execute_result"
    }
   ],
   "source": [
    "predictors['date'] = pd.to_datetime(predictors['yyyymm'], format='%Y%m')\n",
    "predictors = predictors.drop(columns = ['yyyymm'])\n",
    "predictors.set_index('date', inplace=True)\n",
    "\n",
    "predictors"
   ]
  },
  {
   "cell_type": "code",
   "execution_count": 10,
   "metadata": {},
   "outputs": [
    {
     "data": {
      "text/html": [
       "<div>\n",
       "<style scoped>\n",
       "    .dataframe tbody tr th:only-of-type {\n",
       "        vertical-align: middle;\n",
       "    }\n",
       "\n",
       "    .dataframe tbody tr th {\n",
       "        vertical-align: top;\n",
       "    }\n",
       "\n",
       "    .dataframe thead th {\n",
       "        text-align: right;\n",
       "    }\n",
       "</style>\n",
       "<table border=\"1\" class=\"dataframe\">\n",
       "  <thead>\n",
       "    <tr style=\"text-align: right;\">\n",
       "      <th></th>\n",
       "      <th>Mkt-RF</th>\n",
       "      <th>HML</th>\n",
       "      <th>GS10 (Bond)</th>\n",
       "    </tr>\n",
       "    <tr>\n",
       "      <th>date</th>\n",
       "      <th></th>\n",
       "      <th></th>\n",
       "      <th></th>\n",
       "    </tr>\n",
       "  </thead>\n",
       "  <tbody>\n",
       "    <tr>\n",
       "      <th>1926-07-01</th>\n",
       "      <td>2.96</td>\n",
       "      <td>-2.43</td>\n",
       "      <td>NaN</td>\n",
       "    </tr>\n",
       "    <tr>\n",
       "      <th>1926-08-01</th>\n",
       "      <td>2.64</td>\n",
       "      <td>3.82</td>\n",
       "      <td>NaN</td>\n",
       "    </tr>\n",
       "    <tr>\n",
       "      <th>1926-09-01</th>\n",
       "      <td>0.36</td>\n",
       "      <td>0.13</td>\n",
       "      <td>NaN</td>\n",
       "    </tr>\n",
       "    <tr>\n",
       "      <th>1926-10-01</th>\n",
       "      <td>-3.24</td>\n",
       "      <td>0.70</td>\n",
       "      <td>NaN</td>\n",
       "    </tr>\n",
       "    <tr>\n",
       "      <th>1926-11-01</th>\n",
       "      <td>2.53</td>\n",
       "      <td>-0.51</td>\n",
       "      <td>NaN</td>\n",
       "    </tr>\n",
       "    <tr>\n",
       "      <th>...</th>\n",
       "      <td>...</td>\n",
       "      <td>...</td>\n",
       "      <td>...</td>\n",
       "    </tr>\n",
       "    <tr>\n",
       "      <th>2024-08-01</th>\n",
       "      <td>1.61</td>\n",
       "      <td>-1.13</td>\n",
       "      <td>3.87</td>\n",
       "    </tr>\n",
       "    <tr>\n",
       "      <th>2024-09-01</th>\n",
       "      <td>1.74</td>\n",
       "      <td>-2.59</td>\n",
       "      <td>3.72</td>\n",
       "    </tr>\n",
       "    <tr>\n",
       "      <th>2024-10-01</th>\n",
       "      <td>-0.97</td>\n",
       "      <td>0.89</td>\n",
       "      <td>4.10</td>\n",
       "    </tr>\n",
       "    <tr>\n",
       "      <th>2024-11-01</th>\n",
       "      <td>6.51</td>\n",
       "      <td>-0.05</td>\n",
       "      <td>4.36</td>\n",
       "    </tr>\n",
       "    <tr>\n",
       "      <th>2024-12-01</th>\n",
       "      <td>-3.17</td>\n",
       "      <td>-2.95</td>\n",
       "      <td>4.39</td>\n",
       "    </tr>\n",
       "  </tbody>\n",
       "</table>\n",
       "<p>1182 rows × 3 columns</p>\n",
       "</div>"
      ],
      "text/plain": [
       "            Mkt-RF   HML  GS10 (Bond)\n",
       "date                                 \n",
       "1926-07-01    2.96 -2.43          NaN\n",
       "1926-08-01    2.64  3.82          NaN\n",
       "1926-09-01    0.36  0.13          NaN\n",
       "1926-10-01   -3.24  0.70          NaN\n",
       "1926-11-01    2.53 -0.51          NaN\n",
       "...            ...   ...          ...\n",
       "2024-08-01    1.61 -1.13         3.87\n",
       "2024-09-01    1.74 -2.59         3.72\n",
       "2024-10-01   -0.97  0.89         4.10\n",
       "2024-11-01    6.51 -0.05         4.36\n",
       "2024-12-01   -3.17 -2.95         4.39\n",
       "\n",
       "[1182 rows x 3 columns]"
      ]
     },
     "execution_count": 10,
     "metadata": {},
     "output_type": "execute_result"
    }
   ],
   "source": [
    "dependent_vars['date'] = pd.to_datetime(dependent_vars['DATE'], format='%Y%m')\n",
    "dependent_vars = dependent_vars.drop(columns = ['DATE'])\n",
    "dependent_vars.set_index('date', inplace=True)\n",
    "\n",
    "dependent_vars"
   ]
  },
  {
   "cell_type": "markdown",
   "metadata": {},
   "source": [
    "### **Data Preparation**"
   ]
  },
  {
   "cell_type": "code",
   "execution_count": 11,
   "metadata": {},
   "outputs": [],
   "source": [
    "market_return = dependent_vars['Mkt-RF']\n",
    "bond_return = dependent_vars['GS10 (Bond)']\n",
    "HML = dependent_vars['HML']\n",
    "risk_free_rate = predictors['tbl']"
   ]
  },
  {
   "cell_type": "markdown",
   "metadata": {},
   "source": [
    "### **Excess Market Return**"
   ]
  },
  {
   "cell_type": "markdown",
   "metadata": {},
   "source": [
    "**Adjusting the dates**"
   ]
  },
  {
   "cell_type": "code",
   "execution_count": 12,
   "metadata": {},
   "outputs": [],
   "source": [
    "market_return_predictors = predictors['1927-01-01':'2020-12-01']\n",
    "market_return = market_return['1927-01-01':'2020-12-01']"
   ]
  },
  {
   "cell_type": "markdown",
   "metadata": {},
   "source": [
    "**Simple Linear Model**"
   ]
  },
  {
   "cell_type": "code",
   "execution_count": 25,
   "metadata": {},
   "outputs": [
    {
     "name": "stderr",
     "output_type": "stream",
     "text": [
      "100%|██████████| 1116/1116 [00:02<00:00, 446.84it/s]"
     ]
    },
    {
     "name": "stdout",
     "output_type": "stream",
     "text": [
      "0.14462756847764302      0.13173880833197427       4.3660300062435615      -0.06468213627410503\n"
     ]
    },
    {
     "name": "stderr",
     "output_type": "stream",
     "text": [
      "\n"
     ]
    }
   ],
   "source": [
    "linear_predictions_market = linear_model(market_return_predictors,market_return)\n",
    "\n",
    "portfolio_returns_simple_market = timing_strategy(linear_predictions_market,market_return)\n",
    "\n",
    "sharpe_ratio_simple_market, appraisal_ratio_simple_market, alpha_t_stat_simple_market, skewness_simple_market = performance_measures(portfolio_returns_simple_market,market_return,risk_free_rate)\n",
    "\n",
    "print(f'{sharpe_ratio_simple_market}      {appraisal_ratio_simple_market}       {alpha_t_stat_simple_market}      {skewness_simple_market}')"
   ]
  },
  {
   "cell_type": "markdown",
   "metadata": {},
   "source": [
    "**Complex Model**"
   ]
  },
  {
   "cell_type": "code",
   "execution_count": 21,
   "metadata": {},
   "outputs": [
    {
     "name": "stderr",
     "output_type": "stream",
     "text": [
      "100%|██████████| 1116/1116 [00:01<00:00, 675.92it/s]"
     ]
    },
    {
     "name": "stdout",
     "output_type": "stream",
     "text": [
      "0.04639577437014623      0.07049447632649807       2.3362971231706178      -4.391203311164725\n"
     ]
    },
    {
     "name": "stderr",
     "output_type": "stream",
     "text": [
      "\n"
     ]
    }
   ],
   "source": [
    "complex_predictions_market = complex_model(market_return_predictors,market_return)\n",
    "\n",
    "portfolio_returns_complex_market = timing_strategy(complex_predictions_market,market_return)\n",
    "\n",
    "sharpe_ratio_complex_market, appraisal_ratio_complex_market, alpha_t_stat_complex_market, skewness_complex_market = performance_measures(portfolio_returns_complex_market,market_return,risk_free_rate)\n",
    "\n",
    "print(f'{sharpe_ratio_complex_market}      {appraisal_ratio_complex_market}       {alpha_t_stat_complex_market}      {skewness_complex_market}')"
   ]
  },
  {
   "cell_type": "markdown",
   "metadata": {},
   "source": [
    "**Reference values**"
   ]
  },
  {
   "cell_type": "code",
   "execution_count": 22,
   "metadata": {},
   "outputs": [
    {
     "data": {
      "text/plain": [
       "0.12641849711516445"
      ]
     },
     "execution_count": 22,
     "metadata": {},
     "output_type": "execute_result"
    }
   ],
   "source": [
    "market_sharpe_ratio = np.mean(market_return) / np.std(market_return)\n",
    "market_sharpe_ratio"
   ]
  },
  {
   "cell_type": "code",
   "execution_count": 23,
   "metadata": {},
   "outputs": [
    {
     "data": {
      "text/plain": [
       "0.1704059710213811"
      ]
     },
     "execution_count": 23,
     "metadata": {},
     "output_type": "execute_result"
    }
   ],
   "source": [
    "market_skew = skew(market_return)\n",
    "market_skew"
   ]
  },
  {
   "cell_type": "markdown",
   "metadata": {},
   "source": [
    "### **Excess Return of 10Y Treasury Bond**"
   ]
  },
  {
   "cell_type": "markdown",
   "metadata": {},
   "source": [
    "**Adjusting the dates (different from the article)**"
   ]
  },
  {
   "cell_type": "code",
   "execution_count": 27,
   "metadata": {},
   "outputs": [],
   "source": [
    "bond_predictors = predictors['1953-04-01':'2020-12-01']\n",
    "bond_return = bond_return['1953-04-01':'2020-12-01']"
   ]
  },
  {
   "cell_type": "markdown",
   "metadata": {},
   "source": [
    "**Simple Linear Model**"
   ]
  },
  {
   "cell_type": "code",
   "execution_count": 28,
   "metadata": {},
   "outputs": [
    {
     "name": "stderr",
     "output_type": "stream",
     "text": [
      "100%|██████████| 801/801 [00:01<00:00, 446.43it/s]"
     ]
    },
    {
     "name": "stdout",
     "output_type": "stream",
     "text": [
      "0.959837210856247      -2.482539445809079       -31.66761713310566      2.2939279882661823\n"
     ]
    },
    {
     "name": "stderr",
     "output_type": "stream",
     "text": [
      "\n"
     ]
    }
   ],
   "source": [
    "linear_predictions_bond = linear_model(bond_predictors,bond_return)\n",
    "\n",
    "portfolio_returns_simple_bond = timing_strategy(linear_predictions_bond,bond_return)\n",
    "\n",
    "sharpe_ratio_simple_bond, appraisal_ratio_simple_bond, alpha_t_stat_simple_bond, skewness_simple_bond = performance_measures(portfolio_returns_simple_bond,bond_return,risk_free_rate)\n",
    "\n",
    "print(f'{sharpe_ratio_simple_bond}      {appraisal_ratio_simple_bond}       {alpha_t_stat_simple_bond}      {skewness_simple_bond}')"
   ]
  },
  {
   "cell_type": "markdown",
   "metadata": {},
   "source": [
    "**Complex Model**"
   ]
  },
  {
   "cell_type": "code",
   "execution_count": 29,
   "metadata": {},
   "outputs": [
    {
     "name": "stderr",
     "output_type": "stream",
     "text": [
      "100%|██████████| 801/801 [00:01<00:00, 736.73it/s]\n"
     ]
    },
    {
     "name": "stdout",
     "output_type": "stream",
     "text": [
      "1.0101095706744976      -3.226318272624942       -41.155362900480135      1.8296704141470819\n"
     ]
    }
   ],
   "source": [
    "complex_predictions_bond = complex_model(bond_predictors,bond_return)\n",
    "\n",
    "portfolio_returns_complex_bond = timing_strategy(complex_predictions_bond,bond_return)\n",
    "\n",
    "sharpe_ratio_complex_bond, appraisal_ratio_complex_bond, alpha_t_stat_complex_bond, skewness_complex_bond = performance_measures(portfolio_returns_complex_bond,bond_return,risk_free_rate)\n",
    "\n",
    "print(f'{sharpe_ratio_complex_bond}      {appraisal_ratio_complex_bond}       {alpha_t_stat_complex_bond}      {skewness_complex_bond}')"
   ]
  },
  {
   "cell_type": "markdown",
   "metadata": {},
   "source": [
    "**Reference values**"
   ]
  },
  {
   "cell_type": "code",
   "execution_count": 30,
   "metadata": {},
   "outputs": [
    {
     "data": {
      "text/plain": [
       "1.9678553292187477"
      ]
     },
     "execution_count": 30,
     "metadata": {},
     "output_type": "execute_result"
    }
   ],
   "source": [
    "excess_bond_return = bond_return - risk_free_rate['1953-04-01':'2020-12-01']\n",
    "\n",
    "bond_sharpe_ratio = np.mean(excess_bond_return) / np.std(excess_bond_return)\n",
    "bond_sharpe_ratio"
   ]
  },
  {
   "cell_type": "code",
   "execution_count": 31,
   "metadata": {},
   "outputs": [
    {
     "data": {
      "text/plain": [
       "0.8461798126449531"
      ]
     },
     "execution_count": 31,
     "metadata": {},
     "output_type": "execute_result"
    }
   ],
   "source": [
    "bond_skew = skew(excess_bond_return)\n",
    "bond_skew"
   ]
  },
  {
   "cell_type": "markdown",
   "metadata": {},
   "source": [
    "### **HML**"
   ]
  },
  {
   "cell_type": "markdown",
   "metadata": {},
   "source": [
    "**Adjusting the dates**"
   ]
  },
  {
   "cell_type": "code",
   "execution_count": 32,
   "metadata": {},
   "outputs": [],
   "source": [
    "hml_predictors = predictors['1927-01-01':'2020-12-01']\n",
    "HML = HML['1927-01-01':'2020-12-01']"
   ]
  },
  {
   "cell_type": "markdown",
   "metadata": {},
   "source": [
    "**Simple Linear Model**"
   ]
  },
  {
   "cell_type": "code",
   "execution_count": 33,
   "metadata": {},
   "outputs": [
    {
     "name": "stderr",
     "output_type": "stream",
     "text": [
      "100%|██████████| 1116/1116 [00:02<00:00, 426.93it/s]"
     ]
    },
    {
     "name": "stdout",
     "output_type": "stream",
     "text": [
      "-0.0023305171787666      0.004473891487892156       0.14874426615843234      -7.614363853116946\n"
     ]
    },
    {
     "name": "stderr",
     "output_type": "stream",
     "text": [
      "\n"
     ]
    }
   ],
   "source": [
    "linear_predictions_hml = linear_model(hml_predictors,HML)\n",
    "\n",
    "portfolio_returns_simple_hml = timing_strategy(linear_predictions_hml,HML)\n",
    "\n",
    "sharpe_ratio_simple_hml, appraisal_ratio_simple_hml, alpha_t_stat_simple_hml, skewness_simple_hml = performance_measures(portfolio_returns_simple_hml,HML,risk_free_rate)\n",
    "\n",
    "print(f'{sharpe_ratio_simple_hml}      {appraisal_ratio_simple_hml}       {alpha_t_stat_simple_hml}      {skewness_simple_hml}')"
   ]
  },
  {
   "cell_type": "markdown",
   "metadata": {},
   "source": [
    "**Complex Model**"
   ]
  },
  {
   "cell_type": "code",
   "execution_count": 34,
   "metadata": {},
   "outputs": [
    {
     "name": "stderr",
     "output_type": "stream",
     "text": [
      "100%|██████████| 1116/1116 [00:01<00:00, 738.10it/s]\n"
     ]
    },
    {
     "name": "stdout",
     "output_type": "stream",
     "text": [
      "0.06565821348681646      0.045230495523218506       1.5037863307125365      4.113155509437944\n"
     ]
    }
   ],
   "source": [
    "complex_predictions_hml = complex_model(hml_predictors,HML)\n",
    "\n",
    "portfolio_returns_complex_hml = timing_strategy(complex_predictions_hml,HML)\n",
    "\n",
    "sharpe_ratio_complex_hml, appraisal_ratio_complex_hml, alpha_t_stat_complex_hml, skewness_complex_hml = performance_measures(portfolio_returns_complex_hml,HML,risk_free_rate)\n",
    "\n",
    "print(f'{sharpe_ratio_complex_hml}      {appraisal_ratio_complex_hml}       {alpha_t_stat_complex_hml}      {skewness_complex_hml}')"
   ]
  },
  {
   "cell_type": "markdown",
   "metadata": {},
   "source": [
    "**Reference values**"
   ]
  },
  {
   "cell_type": "code",
   "execution_count": 35,
   "metadata": {},
   "outputs": [
    {
     "data": {
      "text/plain": [
       "0.0823680413619035"
      ]
     },
     "execution_count": 35,
     "metadata": {},
     "output_type": "execute_result"
    }
   ],
   "source": [
    "excess_HML = HML - risk_free_rate['1927-01-01':'2020-12-01']\n",
    "\n",
    "HML_sharpe_ratio = np.mean(excess_HML) / np.std(excess_HML)\n",
    "HML_sharpe_ratio"
   ]
  },
  {
   "cell_type": "code",
   "execution_count": 36,
   "metadata": {},
   "outputs": [
    {
     "data": {
      "text/plain": [
       "2.2018195475848046"
      ]
     },
     "execution_count": 36,
     "metadata": {},
     "output_type": "execute_result"
    }
   ],
   "source": [
    "hml_skew = skew(excess_HML)\n",
    "hml_skew"
   ]
  },
  {
   "cell_type": "markdown",
   "metadata": {},
   "source": [
    "### **Tables**"
   ]
  },
  {
   "cell_type": "markdown",
   "metadata": {},
   "source": [
    "**Excess Market Return**"
   ]
  },
  {
   "cell_type": "code",
   "execution_count": 37,
   "metadata": {},
   "outputs": [
    {
     "data": {
      "text/html": [
       "<style type=\"text/css\">\n",
       "</style>\n",
       "<table id=\"T_09f0c\">\n",
       "  <caption>Hypothetical Out-of-Sample Equity Market Timing Performance</caption>\n",
       "  <thead>\n",
       "    <tr>\n",
       "      <th class=\"blank level0\" >&nbsp;</th>\n",
       "      <th id=\"T_09f0c_level0_col0\" class=\"col_heading level0 col0\" >US Stocks Excess Return</th>\n",
       "      <th id=\"T_09f0c_level0_col1\" class=\"col_heading level0 col1\" >Simple Linear Timing Strategy Return</th>\n",
       "      <th id=\"T_09f0c_level0_col2\" class=\"col_heading level0 col2\" >Complex Nonlinear Timing Strategy Return</th>\n",
       "    </tr>\n",
       "  </thead>\n",
       "  <tbody>\n",
       "    <tr>\n",
       "      <th id=\"T_09f0c_level0_row0\" class=\"row_heading level0 row0\" >Sharpe Ratio</th>\n",
       "      <td id=\"T_09f0c_row0_col0\" class=\"data row0 col0\" >0.13</td>\n",
       "      <td id=\"T_09f0c_row0_col1\" class=\"data row0 col1\" >0.14</td>\n",
       "      <td id=\"T_09f0c_row0_col2\" class=\"data row0 col2\" >0.05</td>\n",
       "    </tr>\n",
       "    <tr>\n",
       "      <th id=\"T_09f0c_level0_row1\" class=\"row_heading level0 row1\" >Appraisal Ratio</th>\n",
       "      <td id=\"T_09f0c_row1_col0\" class=\"data row1 col0\" >nan</td>\n",
       "      <td id=\"T_09f0c_row1_col1\" class=\"data row1 col1\" >0.13</td>\n",
       "      <td id=\"T_09f0c_row1_col2\" class=\"data row1 col2\" >0.07</td>\n",
       "    </tr>\n",
       "    <tr>\n",
       "      <th id=\"T_09f0c_level0_row2\" class=\"row_heading level0 row2\" >Alpha t-stat</th>\n",
       "      <td id=\"T_09f0c_row2_col0\" class=\"data row2 col0\" >nan</td>\n",
       "      <td id=\"T_09f0c_row2_col1\" class=\"data row2 col1\" >4.37</td>\n",
       "      <td id=\"T_09f0c_row2_col2\" class=\"data row2 col2\" >2.34</td>\n",
       "    </tr>\n",
       "    <tr>\n",
       "      <th id=\"T_09f0c_level0_row3\" class=\"row_heading level0 row3\" >Skew</th>\n",
       "      <td id=\"T_09f0c_row3_col0\" class=\"data row3 col0\" >0.17</td>\n",
       "      <td id=\"T_09f0c_row3_col1\" class=\"data row3 col1\" >-0.06</td>\n",
       "      <td id=\"T_09f0c_row3_col2\" class=\"data row3 col2\" >-4.39</td>\n",
       "    </tr>\n",
       "  </tbody>\n",
       "</table>\n"
      ],
      "text/plain": [
       "<pandas.io.formats.style.Styler at 0x7f791d2fd120>"
      ]
     },
     "execution_count": 37,
     "metadata": {},
     "output_type": "execute_result"
    }
   ],
   "source": [
    "data_market = {\n",
    "    'US Stocks Excess Return': [market_sharpe_ratio, None, None, market_skew],\n",
    "    'Simple Linear Timing Strategy Return': [\n",
    "        sharpe_ratio_simple_market,\n",
    "        appraisal_ratio_simple_market,\n",
    "        alpha_t_stat_simple_market,\n",
    "        skewness_simple_market\n",
    "    ],\n",
    "    'Complex Nonlinear Timing Strategy Return': [\n",
    "        sharpe_ratio_complex_market,\n",
    "        appraisal_ratio_complex_market,\n",
    "        alpha_t_stat_complex_market,\n",
    "        skewness_complex_market\n",
    "    ]\n",
    "}\n",
    "\n",
    "index = ['Sharpe Ratio', 'Appraisal Ratio', 'Alpha t-stat', 'Skew']\n",
    "\n",
    "df_market = pd.DataFrame(data_market, index=index).style.format(\"{:.2f}\").set_caption(\"Hypothetical Out-of-Sample Equity Market Timing Performance\")\n",
    "\n",
    "df_market"
   ]
  },
  {
   "attachments": {
    "image.png": {
     "image/png": "[encoded data removed]"
    }
   },
   "cell_type": "markdown",
   "metadata": {},
   "source": [
    "![image.png](attachment:image.png)"
   ]
  },
  {
   "cell_type": "markdown",
   "metadata": {},
   "source": [
    "**Excess Bond Market Return**"
   ]
  },
  {
   "cell_type": "code",
   "execution_count": 38,
   "metadata": {},
   "outputs": [
    {
     "data": {
      "text/html": [
       "<style type=\"text/css\">\n",
       "</style>\n",
       "<table id=\"T_d4bec\">\n",
       "  <caption>Hypothetical Out-of-Sample Bond Timing Performance</caption>\n",
       "  <thead>\n",
       "    <tr>\n",
       "      <th class=\"blank level0\" >&nbsp;</th>\n",
       "      <th id=\"T_d4bec_level0_col0\" class=\"col_heading level0 col0\" >Bond Excess Return</th>\n",
       "      <th id=\"T_d4bec_level0_col1\" class=\"col_heading level0 col1\" >Simple Linear Timing Strategy Return</th>\n",
       "      <th id=\"T_d4bec_level0_col2\" class=\"col_heading level0 col2\" >Complex Nonlinear Timing Strategy Return</th>\n",
       "    </tr>\n",
       "  </thead>\n",
       "  <tbody>\n",
       "    <tr>\n",
       "      <th id=\"T_d4bec_level0_row0\" class=\"row_heading level0 row0\" >Sharpe Ratio</th>\n",
       "      <td id=\"T_d4bec_row0_col0\" class=\"data row0 col0\" >1.97</td>\n",
       "      <td id=\"T_d4bec_row0_col1\" class=\"data row0 col1\" >0.96</td>\n",
       "      <td id=\"T_d4bec_row0_col2\" class=\"data row0 col2\" >1.01</td>\n",
       "    </tr>\n",
       "    <tr>\n",
       "      <th id=\"T_d4bec_level0_row1\" class=\"row_heading level0 row1\" >Appraisal Ratio</th>\n",
       "      <td id=\"T_d4bec_row1_col0\" class=\"data row1 col0\" >nan</td>\n",
       "      <td id=\"T_d4bec_row1_col1\" class=\"data row1 col1\" >-2.48</td>\n",
       "      <td id=\"T_d4bec_row1_col2\" class=\"data row1 col2\" >-3.23</td>\n",
       "    </tr>\n",
       "    <tr>\n",
       "      <th id=\"T_d4bec_level0_row2\" class=\"row_heading level0 row2\" >Alpha t-stat</th>\n",
       "      <td id=\"T_d4bec_row2_col0\" class=\"data row2 col0\" >nan</td>\n",
       "      <td id=\"T_d4bec_row2_col1\" class=\"data row2 col1\" >-31.67</td>\n",
       "      <td id=\"T_d4bec_row2_col2\" class=\"data row2 col2\" >-41.16</td>\n",
       "    </tr>\n",
       "    <tr>\n",
       "      <th id=\"T_d4bec_level0_row3\" class=\"row_heading level0 row3\" >Skew</th>\n",
       "      <td id=\"T_d4bec_row3_col0\" class=\"data row3 col0\" >0.85</td>\n",
       "      <td id=\"T_d4bec_row3_col1\" class=\"data row3 col1\" >2.29</td>\n",
       "      <td id=\"T_d4bec_row3_col2\" class=\"data row3 col2\" >1.83</td>\n",
       "    </tr>\n",
       "  </tbody>\n",
       "</table>\n"
      ],
      "text/plain": [
       "<pandas.io.formats.style.Styler at 0x7f790855f9a0>"
      ]
     },
     "execution_count": 38,
     "metadata": {},
     "output_type": "execute_result"
    }
   ],
   "source": [
    "data_bond = {\n",
    "    'Bond Excess Return': [bond_sharpe_ratio, None, None, bond_skew],\n",
    "    'Simple Linear Timing Strategy Return': [\n",
    "        sharpe_ratio_simple_bond,\n",
    "        appraisal_ratio_simple_bond,\n",
    "        alpha_t_stat_simple_bond,\n",
    "        skewness_simple_bond\n",
    "    ],\n",
    "    'Complex Nonlinear Timing Strategy Return': [\n",
    "        sharpe_ratio_complex_bond,\n",
    "        appraisal_ratio_complex_bond,\n",
    "        alpha_t_stat_complex_bond,\n",
    "        skewness_complex_bond\n",
    "    ]\n",
    "}\n",
    "\n",
    "index_bond = ['Sharpe Ratio', 'Appraisal Ratio', 'Alpha t-stat', 'Skew']\n",
    "\n",
    "df_bond = pd.DataFrame(data_bond, index=index_bond).style.format(\"{:.2f}\").set_caption(\"Hypothetical Out-of-Sample Bond Timing Performance\")\n",
    "\n",
    "df_bond"
   ]
  },
  {
   "attachments": {
    "image.png": {
     "image/png": "[encoded data removed]"
    }
   },
   "cell_type": "markdown",
   "metadata": {},
   "source": [
    "![image.png](attachment:image.png)"
   ]
  },
  {
   "cell_type": "markdown",
   "metadata": {},
   "source": [
    "**HML Return**"
   ]
  },
  {
   "cell_type": "code",
   "execution_count": 39,
   "metadata": {},
   "outputs": [
    {
     "data": {
      "text/html": [
       "<style type=\"text/css\">\n",
       "</style>\n",
       "<table id=\"T_59429\">\n",
       "  <caption>Hypothetical Out-of-Sample HML Timing Performance</caption>\n",
       "  <thead>\n",
       "    <tr>\n",
       "      <th class=\"blank level0\" >&nbsp;</th>\n",
       "      <th id=\"T_59429_level0_col0\" class=\"col_heading level0 col0\" >HML Excess Return</th>\n",
       "      <th id=\"T_59429_level0_col1\" class=\"col_heading level0 col1\" >Simple Linear Timing Strategy Return</th>\n",
       "      <th id=\"T_59429_level0_col2\" class=\"col_heading level0 col2\" >Complex Nonlinear Timing Strategy Return</th>\n",
       "    </tr>\n",
       "  </thead>\n",
       "  <tbody>\n",
       "    <tr>\n",
       "      <th id=\"T_59429_level0_row0\" class=\"row_heading level0 row0\" >Sharpe Ratio</th>\n",
       "      <td id=\"T_59429_row0_col0\" class=\"data row0 col0\" >0.08</td>\n",
       "      <td id=\"T_59429_row0_col1\" class=\"data row0 col1\" >-0.00</td>\n",
       "      <td id=\"T_59429_row0_col2\" class=\"data row0 col2\" >0.07</td>\n",
       "    </tr>\n",
       "    <tr>\n",
       "      <th id=\"T_59429_level0_row1\" class=\"row_heading level0 row1\" >Appraisal Ratio</th>\n",
       "      <td id=\"T_59429_row1_col0\" class=\"data row1 col0\" >nan</td>\n",
       "      <td id=\"T_59429_row1_col1\" class=\"data row1 col1\" >0.00</td>\n",
       "      <td id=\"T_59429_row1_col2\" class=\"data row1 col2\" >0.05</td>\n",
       "    </tr>\n",
       "    <tr>\n",
       "      <th id=\"T_59429_level0_row2\" class=\"row_heading level0 row2\" >Alpha t-stat</th>\n",
       "      <td id=\"T_59429_row2_col0\" class=\"data row2 col0\" >nan</td>\n",
       "      <td id=\"T_59429_row2_col1\" class=\"data row2 col1\" >0.15</td>\n",
       "      <td id=\"T_59429_row2_col2\" class=\"data row2 col2\" >1.50</td>\n",
       "    </tr>\n",
       "    <tr>\n",
       "      <th id=\"T_59429_level0_row3\" class=\"row_heading level0 row3\" >Skew</th>\n",
       "      <td id=\"T_59429_row3_col0\" class=\"data row3 col0\" >2.20</td>\n",
       "      <td id=\"T_59429_row3_col1\" class=\"data row3 col1\" >-7.61</td>\n",
       "      <td id=\"T_59429_row3_col2\" class=\"data row3 col2\" >4.11</td>\n",
       "    </tr>\n",
       "  </tbody>\n",
       "</table>\n"
      ],
      "text/plain": [
       "<pandas.io.formats.style.Styler at 0x7f790855f370>"
      ]
     },
     "execution_count": 39,
     "metadata": {},
     "output_type": "execute_result"
    }
   ],
   "source": [
    "data_hml = {\n",
    "    'HML Excess Return': [HML_sharpe_ratio, None, None, hml_skew],\n",
    "    'Simple Linear Timing Strategy Return': [\n",
    "        sharpe_ratio_simple_hml,\n",
    "        appraisal_ratio_simple_hml,\n",
    "        alpha_t_stat_simple_hml,\n",
    "        skewness_simple_hml\n",
    "    ],\n",
    "    'Complex Nonlinear Timing Strategy Return': [\n",
    "        sharpe_ratio_complex_hml,\n",
    "        appraisal_ratio_complex_hml,\n",
    "        alpha_t_stat_complex_hml,\n",
    "        skewness_complex_hml\n",
    "    ]\n",
    "}\n",
    "\n",
    "index_hml = ['Sharpe Ratio', 'Appraisal Ratio', 'Alpha t-stat', 'Skew']\n",
    "\n",
    "df_hml = pd.DataFrame(data_hml, index=index_hml).style.format(\"{:.2f}\").set_caption(\"Hypothetical Out-of-Sample HML Timing Performance\")\n",
    "\n",
    "df_hml"
   ]
  },
  {
   "attachments": {
    "image.png": {
     "image/png": "[encoded data removed]"
    }
   },
   "cell_type": "markdown",
   "metadata": {},
   "source": [
    "![image.png](attachment:image.png)"
   ]
  }
 ],
 "metadata": {
  "kernelspec": {
   "display_name": "base",
   "language": "python",
   "name": "python3"
  },
  "language_info": {
   "codemirror_mode": {
    "name": "ipython",
    "version": 3
   },
   "file_extension": ".py",
   "mimetype": "text/x-python",
   "name": "python",
   "nbconvert_exporter": "python",
   "pygments_lexer": "ipython3",
   "version": "3.10.13"
  }
 },
 "nbformat": 4,
 "nbformat_minor": 2
}
