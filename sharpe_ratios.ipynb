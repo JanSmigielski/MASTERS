{
 "cells": [
  {
   "cell_type": "code",
   "execution_count": 52,
   "metadata": {},
   "outputs": [
    {
     "name": "stdout",
     "output_type": "stream",
     "text": [
      "c:\\Users\\jsmig\\OneDrive\\Desktop\\MASTERS\n"
     ]
    }
   ],
   "source": [
    "import os\n",
    "import pandas as pd\n",
    "import numpy as np\n",
    "from sklearn.linear_model import Ridge\n",
    "from sklearn.kernel_approximation import RBFSampler\n",
    "from scipy.stats import skew\n",
    "from sklearn.linear_model import LinearRegression\n",
    "from tqdm import tqdm\n",
    "import statsmodels.api as sm\n",
    "\n",
    "print(os.getcwd())\n",
    "predictors = pd.read_excel(\"predictors.xlsx\")\n",
    "dependent_vars = pd.read_excel(\"dependent_vars.xlsx\")"
   ]
  },
  {
   "cell_type": "code",
   "execution_count": 53,
   "metadata": {},
   "outputs": [
    {
     "data": {
      "text/plain": [
       "date\n",
       "1927-01-01    0.0323\n",
       "1927-02-01    0.0329\n",
       "1927-03-01    0.0320\n",
       "1927-04-01    0.0339\n",
       "1927-05-01    0.0333\n",
       "               ...  \n",
       "2023-08-01    0.0530\n",
       "2023-09-01    0.0532\n",
       "2023-10-01    0.0534\n",
       "2023-11-01    0.0527\n",
       "2023-12-01    0.0524\n",
       "Name: tbl, Length: 1164, dtype: float64"
      ]
     },
     "execution_count": 53,
     "metadata": {},
     "output_type": "execute_result"
    }
   ],
   "source": [
    "predictors['date'] = pd.to_datetime(predictors['yyyymm'], format='%Y%m')\n",
    "predictors = predictors.drop(columns = ['yyyymm'])\n",
    "predictors.set_index('date', inplace=True)\n",
    "\n",
    "rfr = predictors['tbl']\n",
    "rfr"
   ]
  },
  {
   "cell_type": "code",
   "execution_count": 54,
   "metadata": {},
   "outputs": [
    {
     "data": {
      "text/plain": [
       "date\n",
       "1927-01-01    4.54\n",
       "1927-02-01    2.94\n",
       "1927-03-01   -2.61\n",
       "1927-04-01    0.81\n",
       "1927-05-01    4.73\n",
       "              ... \n",
       "2023-08-01   -1.08\n",
       "2023-09-01    1.45\n",
       "2023-10-01    0.19\n",
       "2023-11-01    1.66\n",
       "2023-12-01    4.92\n",
       "Name: HML, Length: 1164, dtype: float64"
      ]
     },
     "execution_count": 54,
     "metadata": {},
     "output_type": "execute_result"
    }
   ],
   "source": [
    "dependent_vars['date'] = pd.to_datetime(dependent_vars['DATE'], format='%Y%m')\n",
    "dependent_vars = dependent_vars.drop(columns = ['DATE'])\n",
    "dependent_vars.set_index('date', inplace=True)\n",
    "\n",
    "hml = dependent_vars['HML']\n",
    "hml"
   ]
  },
  {
   "cell_type": "code",
   "execution_count": 55,
   "metadata": {},
   "outputs": [
    {
     "data": {
      "text/plain": [
       "date\n",
       "1927-01-01    4.54\n",
       "1927-02-01    2.94\n",
       "1927-03-01   -2.61\n",
       "1927-04-01    0.81\n",
       "1927-05-01    4.73\n",
       "              ... \n",
       "2020-08-01   -2.88\n",
       "2020-09-01   -2.65\n",
       "2020-10-01    4.31\n",
       "2020-11-01    2.15\n",
       "2020-12-01   -1.34\n",
       "Name: HML, Length: 1128, dtype: float64"
      ]
     },
     "execution_count": 55,
     "metadata": {},
     "output_type": "execute_result"
    }
   ],
   "source": [
    "excess_hml = hml['1927-01-01':'2020-12-01'] #- rfr['1927-01-01':'2020-12-01']\n",
    "excess_hml"
   ]
  },
  {
   "cell_type": "code",
   "execution_count": 86,
   "metadata": {},
   "outputs": [
    {
     "name": "stdout",
     "output_type": "stream",
     "text": [
      "Sharpe Ratio: 0.3180\n",
      "Skew: 2.1914\n"
     ]
    }
   ],
   "source": [
    "mean_excess = excess_hml.mean()\n",
    "std_excess = excess_hml.std()\n",
    "\n",
    "sharpe_monthly = mean_excess / std_excess\n",
    "\n",
    "sharpe_annual = sharpe_monthly * np.sqrt(12)\n",
    "skewness = skew(excess_hml)\n",
    "\n",
    "print(f\"Sharpe Ratio: {sharpe_annual:.4f}\")\n",
    "print(f\"Skew: {skewness:.4f}\")"
   ]
  },
  {
   "cell_type": "code",
   "execution_count": 87,
   "metadata": {},
   "outputs": [],
   "source": [
    "market_return = dependent_vars['RET']\n",
    "market_return = market_return['1927-01-01':'2020-12-01']"
   ]
  },
  {
   "cell_type": "code",
   "execution_count": 89,
   "metadata": {},
   "outputs": [
    {
     "name": "stdout",
     "output_type": "stream",
     "text": [
      "Sharpe Ratio: 0.6070\n",
      "Skew: 0.3424\n"
     ]
    }
   ],
   "source": [
    "mean_excess = market_return.mean()\n",
    "std_excess = market_return.std()\n",
    "\n",
    "sharpe_monthly = mean_excess / std_excess\n",
    "\n",
    "sharpe_annual = sharpe_monthly * np.sqrt(12)\n",
    "skewness = skew(market_return)\n",
    "\n",
    "print(f\"Sharpe Ratio: {sharpe_annual:.4f}\")\n",
    "print(f\"Skew: {skewness:.4f}\")"
   ]
  },
  {
   "cell_type": "code",
   "execution_count": 69,
   "metadata": {},
   "outputs": [],
   "source": [
    "bond_return = dependent_vars['GS10']\n",
    "bond_return = bond_return['1953-04-01':'2020-12-01']"
   ]
  },
  {
   "cell_type": "code",
   "execution_count": 91,
   "metadata": {},
   "outputs": [
    {
     "name": "stdout",
     "output_type": "stream",
     "text": [
      "Sharpe Ratio: 6.7959\n",
      "Skew: 0.8463\n"
     ]
    }
   ],
   "source": [
    "mean_excess = bond_return.mean()\n",
    "std_excess = bond_return.std()\n",
    "\n",
    "sharpe_monthly = mean_excess / std_excess\n",
    "\n",
    "sharpe_annual = sharpe_monthly * np.sqrt(12)\n",
    "skewness = skew(bond_return)\n",
    "\n",
    "print(f\"Sharpe Ratio: {sharpe_annual:.4f}\")\n",
    "print(f\"Skew: {skewness:.4f}\")"
   ]
  }
 ],
 "metadata": {
  "kernelspec": {
   "display_name": "base",
   "language": "python",
   "name": "python3"
  },
  "language_info": {
   "codemirror_mode": {
    "name": "ipython",
    "version": 3
   },
   "file_extension": ".py",
   "mimetype": "text/x-python",
   "name": "python",
   "nbconvert_exporter": "python",
   "pygments_lexer": "ipython3",
   "version": "3.10.16"
  }
 },
 "nbformat": 4,
 "nbformat_minor": 2
}
